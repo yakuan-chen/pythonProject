{
 "cells": [
  {
   "cell_type": "code",
   "execution_count": 9,
   "metadata": {},
   "outputs": [],
   "source": [
    "import pandas as pd"
   ]
  },
  {
   "cell_type": "code",
   "execution_count": 21,
   "metadata": {},
   "outputs": [],
   "source": [
    "dset = pd.read_csv(\"/Users/cheyakua/Downloads/b524cfcf-f120-42a4-a291-2d53da66019d.csv\")"
   ]
  },
  {
   "cell_type": "code",
   "execution_count": 22,
   "metadata": {},
   "outputs": [
    {
     "data": {
      "text/html": [
       "<div>\n",
       "<style scoped>\n",
       "    .dataframe tbody tr th:only-of-type {\n",
       "        vertical-align: middle;\n",
       "    }\n",
       "\n",
       "    .dataframe tbody tr th {\n",
       "        vertical-align: top;\n",
       "    }\n",
       "\n",
       "    .dataframe thead th {\n",
       "        text-align: right;\n",
       "    }\n",
       "</style>\n",
       "<table border=\"1\" class=\"dataframe\">\n",
       "  <thead>\n",
       "    <tr style=\"text-align: right;\">\n",
       "      <th></th>\n",
       "      <th>partition_date</th>\n",
       "      <th>asin</th>\n",
       "      <th>organic_position</th>\n",
       "      <th>query_count</th>\n",
       "      <th>clicked_count</th>\n",
       "    </tr>\n",
       "  </thead>\n",
       "  <tbody>\n",
       "    <tr>\n",
       "      <th>0</th>\n",
       "      <td>20200630</td>\n",
       "      <td>B086JBF8F3</td>\n",
       "      <td>2</td>\n",
       "      <td>32216</td>\n",
       "      <td>590</td>\n",
       "    </tr>\n",
       "    <tr>\n",
       "      <th>1</th>\n",
       "      <td>20200630</td>\n",
       "      <td>B01LLSNG1E</td>\n",
       "      <td>164</td>\n",
       "      <td>98</td>\n",
       "      <td>0</td>\n",
       "    </tr>\n",
       "    <tr>\n",
       "      <th>2</th>\n",
       "      <td>20200630</td>\n",
       "      <td>B0010B5EQS</td>\n",
       "      <td>22</td>\n",
       "      <td>4554</td>\n",
       "      <td>5</td>\n",
       "    </tr>\n",
       "    <tr>\n",
       "      <th>3</th>\n",
       "      <td>20200630</td>\n",
       "      <td>B00MNV8E0C</td>\n",
       "      <td>7</td>\n",
       "      <td>2772</td>\n",
       "      <td>7</td>\n",
       "    </tr>\n",
       "    <tr>\n",
       "      <th>4</th>\n",
       "      <td>20200630</td>\n",
       "      <td>B01LLSNG1E</td>\n",
       "      <td>39</td>\n",
       "      <td>2005</td>\n",
       "      <td>3</td>\n",
       "    </tr>\n",
       "  </tbody>\n",
       "</table>\n",
       "</div>"
      ],
      "text/plain": [
       "   partition_date        asin  organic_position  query_count  clicked_count\n",
       "0        20200630  B086JBF8F3                 2        32216            590\n",
       "1        20200630  B01LLSNG1E               164           98              0\n",
       "2        20200630  B0010B5EQS                22         4554              5\n",
       "3        20200630  B00MNV8E0C                 7         2772              7\n",
       "4        20200630  B01LLSNG1E                39         2005              3"
      ]
     },
     "execution_count": 22,
     "metadata": {},
     "output_type": "execute_result"
    }
   ],
   "source": [
    "dset.head()"
   ]
  },
  {
   "cell_type": "code",
   "execution_count": 23,
   "metadata": {},
   "outputs": [
    {
     "data": {
      "text/plain": [
       "(23167, 5)"
      ]
     },
     "execution_count": 23,
     "metadata": {},
     "output_type": "execute_result"
    }
   ],
   "source": [
    "dset.shape"
   ]
  },
  {
   "cell_type": "code",
   "execution_count": 24,
   "metadata": {},
   "outputs": [],
   "source": [
    "dset2 = dset.pivot_table(index = \"organic_position\", columns = \"asin\", values = \"query_count\", aggfunc = \"sum\")"
   ]
  },
  {
   "cell_type": "code",
   "execution_count": 25,
   "metadata": {},
   "outputs": [
    {
     "data": {
      "text/html": [
       "<div>\n",
       "<style scoped>\n",
       "    .dataframe tbody tr th:only-of-type {\n",
       "        vertical-align: middle;\n",
       "    }\n",
       "\n",
       "    .dataframe tbody tr th {\n",
       "        vertical-align: top;\n",
       "    }\n",
       "\n",
       "    .dataframe thead th {\n",
       "        text-align: right;\n",
       "    }\n",
       "</style>\n",
       "<table border=\"1\" class=\"dataframe\">\n",
       "  <thead>\n",
       "    <tr style=\"text-align: right;\">\n",
       "      <th>asin</th>\n",
       "      <th>B00022W4ZU</th>\n",
       "      <th>B0010B5EQS</th>\n",
       "      <th>B00MNV8E0C</th>\n",
       "      <th>B014P0K2A8</th>\n",
       "      <th>B01LLSNG1E</th>\n",
       "      <th>B07PXGQC1Q</th>\n",
       "      <th>B07VGKQ1PV</th>\n",
       "      <th>B086JBF8F3</th>\n",
       "      <th>B086KMYNSS</th>\n",
       "      <th>B0876MF71K</th>\n",
       "    </tr>\n",
       "    <tr>\n",
       "      <th>organic_position</th>\n",
       "      <th></th>\n",
       "      <th></th>\n",
       "      <th></th>\n",
       "      <th></th>\n",
       "      <th></th>\n",
       "      <th></th>\n",
       "      <th></th>\n",
       "      <th></th>\n",
       "      <th></th>\n",
       "      <th></th>\n",
       "    </tr>\n",
       "  </thead>\n",
       "  <tbody>\n",
       "    <tr>\n",
       "      <th>1</th>\n",
       "      <td>654466.0</td>\n",
       "      <td>199661.0</td>\n",
       "      <td>1176331.0</td>\n",
       "      <td>697987.0</td>\n",
       "      <td>375821.0</td>\n",
       "      <td>1542424.0</td>\n",
       "      <td>125905.0</td>\n",
       "      <td>325724.0</td>\n",
       "      <td>1642299.0</td>\n",
       "      <td>18791.0</td>\n",
       "    </tr>\n",
       "    <tr>\n",
       "      <th>2</th>\n",
       "      <td>499757.0</td>\n",
       "      <td>381389.0</td>\n",
       "      <td>323839.0</td>\n",
       "      <td>354151.0</td>\n",
       "      <td>386350.0</td>\n",
       "      <td>419094.0</td>\n",
       "      <td>147049.0</td>\n",
       "      <td>158069.0</td>\n",
       "      <td>764610.0</td>\n",
       "      <td>26518.0</td>\n",
       "    </tr>\n",
       "    <tr>\n",
       "      <th>3</th>\n",
       "      <td>301611.0</td>\n",
       "      <td>327533.0</td>\n",
       "      <td>350792.0</td>\n",
       "      <td>317030.0</td>\n",
       "      <td>230738.0</td>\n",
       "      <td>161625.0</td>\n",
       "      <td>149141.0</td>\n",
       "      <td>280929.0</td>\n",
       "      <td>421235.0</td>\n",
       "      <td>73212.0</td>\n",
       "    </tr>\n",
       "    <tr>\n",
       "      <th>4</th>\n",
       "      <td>320712.0</td>\n",
       "      <td>306036.0</td>\n",
       "      <td>141624.0</td>\n",
       "      <td>243346.0</td>\n",
       "      <td>193945.0</td>\n",
       "      <td>149101.0</td>\n",
       "      <td>170724.0</td>\n",
       "      <td>1185823.0</td>\n",
       "      <td>327192.0</td>\n",
       "      <td>49180.0</td>\n",
       "    </tr>\n",
       "    <tr>\n",
       "      <th>5</th>\n",
       "      <td>244003.0</td>\n",
       "      <td>351774.0</td>\n",
       "      <td>41567.0</td>\n",
       "      <td>179718.0</td>\n",
       "      <td>123622.0</td>\n",
       "      <td>55855.0</td>\n",
       "      <td>152647.0</td>\n",
       "      <td>219084.0</td>\n",
       "      <td>696289.0</td>\n",
       "      <td>65860.0</td>\n",
       "    </tr>\n",
       "  </tbody>\n",
       "</table>\n",
       "</div>"
      ],
      "text/plain": [
       "asin              B00022W4ZU  B0010B5EQS  B00MNV8E0C  B014P0K2A8  B01LLSNG1E  \\\n",
       "organic_position                                                               \n",
       "1                   654466.0    199661.0   1176331.0    697987.0    375821.0   \n",
       "2                   499757.0    381389.0    323839.0    354151.0    386350.0   \n",
       "3                   301611.0    327533.0    350792.0    317030.0    230738.0   \n",
       "4                   320712.0    306036.0    141624.0    243346.0    193945.0   \n",
       "5                   244003.0    351774.0     41567.0    179718.0    123622.0   \n",
       "\n",
       "asin              B07PXGQC1Q  B07VGKQ1PV  B086JBF8F3  B086KMYNSS  B0876MF71K  \n",
       "organic_position                                                              \n",
       "1                  1542424.0    125905.0    325724.0   1642299.0     18791.0  \n",
       "2                   419094.0    147049.0    158069.0    764610.0     26518.0  \n",
       "3                   161625.0    149141.0    280929.0    421235.0     73212.0  \n",
       "4                   149101.0    170724.0   1185823.0    327192.0     49180.0  \n",
       "5                    55855.0    152647.0    219084.0    696289.0     65860.0  "
      ]
     },
     "execution_count": 25,
     "metadata": {},
     "output_type": "execute_result"
    }
   ],
   "source": [
    "dset2.head()"
   ]
  },
  {
   "cell_type": "code",
   "execution_count": 26,
   "metadata": {},
   "outputs": [
    {
     "data": {
      "text/plain": [
       "asin\n",
       "B00022W4ZU    4049884.0\n",
       "B0010B5EQS    4906518.0\n",
       "B00MNV8E0C    2991133.0\n",
       "B014P0K2A8    3729044.0\n",
       "B01LLSNG1E    2894182.0\n",
       "B07PXGQC1Q    3315352.0\n",
       "B07VGKQ1PV    3195001.0\n",
       "B086JBF8F3    3231143.0\n",
       "B086KMYNSS    4847415.0\n",
       "B0876MF71K    2951260.0\n",
       "dtype: float64"
      ]
     },
     "execution_count": 26,
     "metadata": {},
     "output_type": "execute_result"
    }
   ],
   "source": [
    "dset2.sum()"
   ]
  },
  {
   "cell_type": "code",
   "execution_count": 27,
   "metadata": {},
   "outputs": [
    {
     "data": {
      "text/html": [
       "<div>\n",
       "<style scoped>\n",
       "    .dataframe tbody tr th:only-of-type {\n",
       "        vertical-align: middle;\n",
       "    }\n",
       "\n",
       "    .dataframe tbody tr th {\n",
       "        vertical-align: top;\n",
       "    }\n",
       "\n",
       "    .dataframe thead th {\n",
       "        text-align: right;\n",
       "    }\n",
       "</style>\n",
       "<table border=\"1\" class=\"dataframe\">\n",
       "  <thead>\n",
       "    <tr style=\"text-align: right;\">\n",
       "      <th>asin</th>\n",
       "      <th>B00022W4ZU</th>\n",
       "      <th>B0010B5EQS</th>\n",
       "      <th>B00MNV8E0C</th>\n",
       "      <th>B014P0K2A8</th>\n",
       "      <th>B01LLSNG1E</th>\n",
       "      <th>B07PXGQC1Q</th>\n",
       "      <th>B07VGKQ1PV</th>\n",
       "      <th>B086JBF8F3</th>\n",
       "      <th>B086KMYNSS</th>\n",
       "      <th>B0876MF71K</th>\n",
       "    </tr>\n",
       "    <tr>\n",
       "      <th>organic_position</th>\n",
       "      <th></th>\n",
       "      <th></th>\n",
       "      <th></th>\n",
       "      <th></th>\n",
       "      <th></th>\n",
       "      <th></th>\n",
       "      <th></th>\n",
       "      <th></th>\n",
       "      <th></th>\n",
       "      <th></th>\n",
       "    </tr>\n",
       "  </thead>\n",
       "  <tbody>\n",
       "    <tr>\n",
       "      <th>1</th>\n",
       "      <td>654466.0</td>\n",
       "      <td>199661.0</td>\n",
       "      <td>1176331.0</td>\n",
       "      <td>697987.0</td>\n",
       "      <td>375821.0</td>\n",
       "      <td>1542424.0</td>\n",
       "      <td>125905.0</td>\n",
       "      <td>325724.0</td>\n",
       "      <td>1642299.0</td>\n",
       "      <td>18791.0</td>\n",
       "    </tr>\n",
       "    <tr>\n",
       "      <th>2</th>\n",
       "      <td>1154223.0</td>\n",
       "      <td>581050.0</td>\n",
       "      <td>1500170.0</td>\n",
       "      <td>1052138.0</td>\n",
       "      <td>762171.0</td>\n",
       "      <td>1961518.0</td>\n",
       "      <td>272954.0</td>\n",
       "      <td>483793.0</td>\n",
       "      <td>2406909.0</td>\n",
       "      <td>45309.0</td>\n",
       "    </tr>\n",
       "    <tr>\n",
       "      <th>3</th>\n",
       "      <td>1455834.0</td>\n",
       "      <td>908583.0</td>\n",
       "      <td>1850962.0</td>\n",
       "      <td>1369168.0</td>\n",
       "      <td>992909.0</td>\n",
       "      <td>2123143.0</td>\n",
       "      <td>422095.0</td>\n",
       "      <td>764722.0</td>\n",
       "      <td>2828144.0</td>\n",
       "      <td>118521.0</td>\n",
       "    </tr>\n",
       "    <tr>\n",
       "      <th>4</th>\n",
       "      <td>1776546.0</td>\n",
       "      <td>1214619.0</td>\n",
       "      <td>1992586.0</td>\n",
       "      <td>1612514.0</td>\n",
       "      <td>1186854.0</td>\n",
       "      <td>2272244.0</td>\n",
       "      <td>592819.0</td>\n",
       "      <td>1950545.0</td>\n",
       "      <td>3155336.0</td>\n",
       "      <td>167701.0</td>\n",
       "    </tr>\n",
       "    <tr>\n",
       "      <th>5</th>\n",
       "      <td>2020549.0</td>\n",
       "      <td>1566393.0</td>\n",
       "      <td>2034153.0</td>\n",
       "      <td>1792232.0</td>\n",
       "      <td>1310476.0</td>\n",
       "      <td>2328099.0</td>\n",
       "      <td>745466.0</td>\n",
       "      <td>2169629.0</td>\n",
       "      <td>3851625.0</td>\n",
       "      <td>233561.0</td>\n",
       "    </tr>\n",
       "    <tr>\n",
       "      <th>...</th>\n",
       "      <td>...</td>\n",
       "      <td>...</td>\n",
       "      <td>...</td>\n",
       "      <td>...</td>\n",
       "      <td>...</td>\n",
       "      <td>...</td>\n",
       "      <td>...</td>\n",
       "      <td>...</td>\n",
       "      <td>...</td>\n",
       "      <td>...</td>\n",
       "    </tr>\n",
       "    <tr>\n",
       "      <th>5061</th>\n",
       "      <td>NaN</td>\n",
       "      <td>NaN</td>\n",
       "      <td>NaN</td>\n",
       "      <td>NaN</td>\n",
       "      <td>2894182.0</td>\n",
       "      <td>NaN</td>\n",
       "      <td>NaN</td>\n",
       "      <td>NaN</td>\n",
       "      <td>NaN</td>\n",
       "      <td>NaN</td>\n",
       "    </tr>\n",
       "    <tr>\n",
       "      <th>5116</th>\n",
       "      <td>NaN</td>\n",
       "      <td>NaN</td>\n",
       "      <td>NaN</td>\n",
       "      <td>NaN</td>\n",
       "      <td>NaN</td>\n",
       "      <td>3315352.0</td>\n",
       "      <td>NaN</td>\n",
       "      <td>NaN</td>\n",
       "      <td>NaN</td>\n",
       "      <td>NaN</td>\n",
       "    </tr>\n",
       "    <tr>\n",
       "      <th>7605</th>\n",
       "      <td>4049884.0</td>\n",
       "      <td>NaN</td>\n",
       "      <td>NaN</td>\n",
       "      <td>NaN</td>\n",
       "      <td>NaN</td>\n",
       "      <td>NaN</td>\n",
       "      <td>NaN</td>\n",
       "      <td>NaN</td>\n",
       "      <td>NaN</td>\n",
       "      <td>NaN</td>\n",
       "    </tr>\n",
       "    <tr>\n",
       "      <th>8925</th>\n",
       "      <td>NaN</td>\n",
       "      <td>4906517.0</td>\n",
       "      <td>NaN</td>\n",
       "      <td>NaN</td>\n",
       "      <td>NaN</td>\n",
       "      <td>NaN</td>\n",
       "      <td>NaN</td>\n",
       "      <td>NaN</td>\n",
       "      <td>NaN</td>\n",
       "      <td>NaN</td>\n",
       "    </tr>\n",
       "    <tr>\n",
       "      <th>9076</th>\n",
       "      <td>NaN</td>\n",
       "      <td>4906518.0</td>\n",
       "      <td>NaN</td>\n",
       "      <td>NaN</td>\n",
       "      <td>NaN</td>\n",
       "      <td>NaN</td>\n",
       "      <td>NaN</td>\n",
       "      <td>NaN</td>\n",
       "      <td>NaN</td>\n",
       "      <td>NaN</td>\n",
       "    </tr>\n",
       "  </tbody>\n",
       "</table>\n",
       "<p>1110 rows × 10 columns</p>\n",
       "</div>"
      ],
      "text/plain": [
       "asin              B00022W4ZU  B0010B5EQS  B00MNV8E0C  B014P0K2A8  B01LLSNG1E  \\\n",
       "organic_position                                                               \n",
       "1                   654466.0    199661.0   1176331.0    697987.0    375821.0   \n",
       "2                  1154223.0    581050.0   1500170.0   1052138.0    762171.0   \n",
       "3                  1455834.0    908583.0   1850962.0   1369168.0    992909.0   \n",
       "4                  1776546.0   1214619.0   1992586.0   1612514.0   1186854.0   \n",
       "5                  2020549.0   1566393.0   2034153.0   1792232.0   1310476.0   \n",
       "...                      ...         ...         ...         ...         ...   \n",
       "5061                     NaN         NaN         NaN         NaN   2894182.0   \n",
       "5116                     NaN         NaN         NaN         NaN         NaN   \n",
       "7605               4049884.0         NaN         NaN         NaN         NaN   \n",
       "8925                     NaN   4906517.0         NaN         NaN         NaN   \n",
       "9076                     NaN   4906518.0         NaN         NaN         NaN   \n",
       "\n",
       "asin              B07PXGQC1Q  B07VGKQ1PV  B086JBF8F3  B086KMYNSS  B0876MF71K  \n",
       "organic_position                                                              \n",
       "1                  1542424.0    125905.0    325724.0   1642299.0     18791.0  \n",
       "2                  1961518.0    272954.0    483793.0   2406909.0     45309.0  \n",
       "3                  2123143.0    422095.0    764722.0   2828144.0    118521.0  \n",
       "4                  2272244.0    592819.0   1950545.0   3155336.0    167701.0  \n",
       "5                  2328099.0    745466.0   2169629.0   3851625.0    233561.0  \n",
       "...                      ...         ...         ...         ...         ...  \n",
       "5061                     NaN         NaN         NaN         NaN         NaN  \n",
       "5116               3315352.0         NaN         NaN         NaN         NaN  \n",
       "7605                     NaN         NaN         NaN         NaN         NaN  \n",
       "8925                     NaN         NaN         NaN         NaN         NaN  \n",
       "9076                     NaN         NaN         NaN         NaN         NaN  \n",
       "\n",
       "[1110 rows x 10 columns]"
      ]
     },
     "execution_count": 27,
     "metadata": {},
     "output_type": "execute_result"
    }
   ],
   "source": [
    "dset2.cumsum()"
   ]
  },
  {
   "cell_type": "code",
   "execution_count": 29,
   "metadata": {},
   "outputs": [],
   "source": [
    "dset3 = dset2.cumsum().div(dset2.sum())"
   ]
  },
  {
   "cell_type": "code",
   "execution_count": 64,
   "metadata": {},
   "outputs": [
    {
     "data": {
      "text/plain": [
       "0.8558411323130335"
      ]
     },
     "execution_count": 64,
     "metadata": {},
     "output_type": "execute_result"
    }
   ],
   "source": [
    "min(dset3.loc[40])"
   ]
  },
  {
   "cell_type": "code",
   "execution_count": 65,
   "metadata": {},
   "outputs": [
    {
     "data": {
      "text/plain": [
       "0.9866357635977113"
      ]
     },
     "execution_count": 65,
     "metadata": {},
     "output_type": "execute_result"
    }
   ],
   "source": [
    "max(dset3.loc[40])"
   ]
  },
  {
   "cell_type": "code",
   "execution_count": 53,
   "metadata": {},
   "outputs": [],
   "source": [
    "dset4 = dset.pivot_table(index = \"organic_position\", columns = \"partition_date\", values = \"query_count\", aggfunc = \"sum\")"
   ]
  },
  {
   "cell_type": "code",
   "execution_count": 54,
   "metadata": {},
   "outputs": [],
   "source": [
    "dset5 = dset4.cumsum().div(dset4.sum())"
   ]
  },
  {
   "cell_type": "code",
   "execution_count": 55,
   "metadata": {},
   "outputs": [
    {
     "data": {
      "text/html": [
       "<div>\n",
       "<style scoped>\n",
       "    .dataframe tbody tr th:only-of-type {\n",
       "        vertical-align: middle;\n",
       "    }\n",
       "\n",
       "    .dataframe tbody tr th {\n",
       "        vertical-align: top;\n",
       "    }\n",
       "\n",
       "    .dataframe thead th {\n",
       "        text-align: right;\n",
       "    }\n",
       "</style>\n",
       "<table border=\"1\" class=\"dataframe\">\n",
       "  <thead>\n",
       "    <tr style=\"text-align: right;\">\n",
       "      <th>partition_date</th>\n",
       "      <th>20200130</th>\n",
       "      <th>20200228</th>\n",
       "      <th>20200330</th>\n",
       "      <th>20200430</th>\n",
       "      <th>20200530</th>\n",
       "      <th>20200630</th>\n",
       "      <th>20200730</th>\n",
       "      <th>20200830</th>\n",
       "    </tr>\n",
       "    <tr>\n",
       "      <th>organic_position</th>\n",
       "      <th></th>\n",
       "      <th></th>\n",
       "      <th></th>\n",
       "      <th></th>\n",
       "      <th></th>\n",
       "      <th></th>\n",
       "      <th></th>\n",
       "      <th></th>\n",
       "    </tr>\n",
       "  </thead>\n",
       "  <tbody>\n",
       "    <tr>\n",
       "      <th>1</th>\n",
       "      <td>0.325937</td>\n",
       "      <td>0.153945</td>\n",
       "      <td>0.200401</td>\n",
       "      <td>0.162143</td>\n",
       "      <td>0.245343</td>\n",
       "      <td>0.172255</td>\n",
       "      <td>0.178306</td>\n",
       "      <td>0.166193</td>\n",
       "    </tr>\n",
       "    <tr>\n",
       "      <th>2</th>\n",
       "      <td>0.369237</td>\n",
       "      <td>0.221786</td>\n",
       "      <td>0.313034</td>\n",
       "      <td>0.254947</td>\n",
       "      <td>0.329370</td>\n",
       "      <td>0.277470</td>\n",
       "      <td>0.276434</td>\n",
       "      <td>0.284099</td>\n",
       "    </tr>\n",
       "    <tr>\n",
       "      <th>3</th>\n",
       "      <td>0.393815</td>\n",
       "      <td>0.259264</td>\n",
       "      <td>0.398440</td>\n",
       "      <td>0.306116</td>\n",
       "      <td>0.413468</td>\n",
       "      <td>0.344257</td>\n",
       "      <td>0.369267</td>\n",
       "      <td>0.421278</td>\n",
       "    </tr>\n",
       "    <tr>\n",
       "      <th>4</th>\n",
       "      <td>0.411464</td>\n",
       "      <td>0.300981</td>\n",
       "      <td>0.468810</td>\n",
       "      <td>0.437139</td>\n",
       "      <td>0.483817</td>\n",
       "      <td>0.420174</td>\n",
       "      <td>0.464474</td>\n",
       "      <td>0.460371</td>\n",
       "    </tr>\n",
       "    <tr>\n",
       "      <th>5</th>\n",
       "      <td>0.429830</td>\n",
       "      <td>0.339627</td>\n",
       "      <td>0.522601</td>\n",
       "      <td>0.534030</td>\n",
       "      <td>0.523563</td>\n",
       "      <td>0.465751</td>\n",
       "      <td>0.514294</td>\n",
       "      <td>0.497006</td>\n",
       "    </tr>\n",
       "  </tbody>\n",
       "</table>\n",
       "</div>"
      ],
      "text/plain": [
       "partition_date    20200130  20200228  20200330  20200430  20200530  20200630  \\\n",
       "organic_position                                                               \n",
       "1                 0.325937  0.153945  0.200401  0.162143  0.245343  0.172255   \n",
       "2                 0.369237  0.221786  0.313034  0.254947  0.329370  0.277470   \n",
       "3                 0.393815  0.259264  0.398440  0.306116  0.413468  0.344257   \n",
       "4                 0.411464  0.300981  0.468810  0.437139  0.483817  0.420174   \n",
       "5                 0.429830  0.339627  0.522601  0.534030  0.523563  0.465751   \n",
       "\n",
       "partition_date    20200730  20200830  \n",
       "organic_position                      \n",
       "1                 0.178306  0.166193  \n",
       "2                 0.276434  0.284099  \n",
       "3                 0.369267  0.421278  \n",
       "4                 0.464474  0.460371  \n",
       "5                 0.514294  0.497006  "
      ]
     },
     "execution_count": 55,
     "metadata": {},
     "output_type": "execute_result"
    }
   ],
   "source": [
    "dset5.head()"
   ]
  },
  {
   "cell_type": "code",
   "execution_count": 60,
   "metadata": {},
   "outputs": [
    {
     "data": {
      "text/plain": [
       "0.8654220808236072"
      ]
     },
     "execution_count": 60,
     "metadata": {},
     "output_type": "execute_result"
    }
   ],
   "source": [
    "min(dset5.loc[40])"
   ]
  },
  {
   "cell_type": "code",
   "execution_count": 61,
   "metadata": {},
   "outputs": [
    {
     "data": {
      "text/plain": [
       "0.9614548095090671"
      ]
     },
     "execution_count": 61,
     "metadata": {},
     "output_type": "execute_result"
    }
   ],
   "source": [
    "max(dset5.loc[40])"
   ]
  },
  {
   "cell_type": "code",
   "execution_count": null,
   "metadata": {},
   "outputs": [],
   "source": []
  }
 ],
 "metadata": {
  "kernelspec": {
   "display_name": "Python 3",
   "language": "python",
   "name": "python3"
  },
  "language_info": {
   "codemirror_mode": {
    "name": "ipython",
    "version": 3
   },
   "file_extension": ".py",
   "mimetype": "text/x-python",
   "name": "python",
   "nbconvert_exporter": "python",
   "pygments_lexer": "ipython3",
   "version": "3.8.5"
  }
 },
 "nbformat": 4,
 "nbformat_minor": 4
}
